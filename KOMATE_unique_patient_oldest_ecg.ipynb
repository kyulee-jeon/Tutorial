{
  "nbformat": 4,
  "nbformat_minor": 0,
  "metadata": {
    "colab": {
      "name": "KOMATE_unique_patient_oldest_ecg",
      "provenance": [],
      "collapsed_sections": [],
      "mount_file_id": "1TsQbvTgEM97fdKE5Uli191n7PyQreOGC",
      "authorship_tag": "ABX9TyPY+IJM7zF02yS704m19/dh",
      "include_colab_link": true
    },
    "kernelspec": {
      "name": "python3",
      "display_name": "Python 3"
    },
    "language_info": {
      "name": "python"
    }
  },
  "cells": [
    {
      "cell_type": "markdown",
      "metadata": {
        "id": "view-in-github",
        "colab_type": "text"
      },
      "source": [
        "<a href=\"https://colab.research.google.com/github/kyulee-jeon/Tutorial/blob/main/KOMATE_unique_patient_oldest_ecg.ipynb\" target=\"_parent\"><img src=\"https://colab.research.google.com/assets/colab-badge.svg\" alt=\"Open In Colab\"/></a>"
      ]
    },
    {
      "cell_type": "code",
      "execution_count": null,
      "metadata": {
        "id": "ylsNFvcJeN2Y"
      },
      "outputs": [],
      "source": [
        "import os\n",
        "import pandas as pd\n",
        "import numpy as np\n",
        "import datetime as datetime\n"
      ]
    },
    {
      "cell_type": "code",
      "source": [
        "df = pd.read_excel('/content/drive/MyDrive/ECG_AGE/KOMATE_Lesion_Based_V1.0.xlsx')"
      ],
      "metadata": {
        "id": "OV8KoWm6eXq0"
      },
      "execution_count": null,
      "outputs": []
    },
    {
      "cell_type": "code",
      "source": [
        "df_scrap = pd.read_excel('/content/drive/MyDrive/ECG_AMI/SCRAP.xlsx')"
      ],
      "metadata": {
        "id": "P-VukRo2efKJ"
      },
      "execution_count": null,
      "outputs": []
    },
    {
      "cell_type": "code",
      "source": [
        "df_scrap.info()"
      ],
      "metadata": {
        "colab": {
          "base_uri": "https://localhost:8080/"
        },
        "id": "xKzrI6zeB2zq",
        "outputId": "1dc20a87-dc29-4ed9-fb75-bd92b3398faa"
      },
      "execution_count": 61,
      "outputs": [
        {
          "output_type": "stream",
          "name": "stdout",
          "text": [
            "<class 'pandas.core.frame.DataFrame'>\n",
            "RangeIndex: 20030 entries, 0 to 20029\n",
            "Data columns (total 2 columns):\n",
            " #   Column     Non-Null Count  Dtype\n",
            "---  ------     --------------  -----\n",
            " 0   CHART_NO   20030 non-null  int64\n",
            " 1   AIsUnitNO  20030 non-null  int64\n",
            "dtypes: int64(2)\n",
            "memory usage: 313.1 KB\n"
          ]
        }
      ]
    },
    {
      "cell_type": "markdown",
      "source": [
        "(0) 필요한 열만 불러와서 데이터 타입 확인하기"
      ],
      "metadata": {
        "id": "p50A7QZ1Y1a1"
      }
    },
    {
      "cell_type": "code",
      "source": [
        "df1 = df[['CHART_NO', 'LESION_DATE', 'STEMI_1']] #dataframe에서 특정 열 추출: df[['col name']]\n",
        "df1.info()\n",
        "\n",
        "'''\n",
        "주의: 이때, dtype = object 를 유심히 봐야 함. \n",
        "알고보니 해당 데이터에는 다른 형식의 string data가 들어있어서\n",
        "나중에 오류가 나왔음. 미리 확인해줘야한다.\n",
        "'''"
      ],
      "metadata": {
        "colab": {
          "base_uri": "https://localhost:8080/",
          "height": 219
        },
        "id": "NXX1uAUzYwYl",
        "outputId": "8f5aca12-153c-4f4b-992a-314ef339b50a"
      },
      "execution_count": null,
      "outputs": [
        {
          "output_type": "stream",
          "name": "stdout",
          "text": [
            "<class 'pandas.core.frame.DataFrame'>\n",
            "RangeIndex: 30166 entries, 0 to 30165\n",
            "Data columns (total 3 columns):\n",
            " #   Column       Non-Null Count  Dtype \n",
            "---  ------       --------------  ----- \n",
            " 0   CHART_NO     30166 non-null  object\n",
            " 1   LESION_DATE  30166 non-null  object\n",
            " 2   STEMI_1      30166 non-null  int64 \n",
            "dtypes: int64(1), object(2)\n",
            "memory usage: 707.1+ KB\n"
          ]
        },
        {
          "output_type": "execute_result",
          "data": {
            "text/plain": [
              "'\\n주의: 이때, dtype = object 를 유심히 봐야 함. \\n알고보니 해당 데이터에는 다른 형식의 string data가 들어있어서\\n나중에 오류가 나왔음. 미리 확인해줘야한다.\\n'"
            ],
            "application/vnd.google.colaboratory.intrinsic+json": {
              "type": "string"
            }
          },
          "metadata": {},
          "execution_count": 8
        }
      ]
    },
    {
      "cell_type": "code",
      "source": [
        "# CHART_NO : weird 값 제거\n",
        "df1['CHART_NO'] = df1['CHART_NO'].astype(str) # dataframe 데이터 타입 변경: df.astype() \n",
        "temp = df1['CHART_NO'].apply(lambda x: x.isdigit()) # 문자열.isdigit() : return True(숫자) or False\n",
        "int_index = np.where(temp==True)\n",
        "df1 = df1.loc[int_index] # index에 해당하는 행만 추출"
      ],
      "metadata": {
        "colab": {
          "base_uri": "https://localhost:8080/"
        },
        "id": "deJzgcbyhtol",
        "outputId": "5320583f-af94-4a0b-c9d8-7a67ee654593"
      },
      "execution_count": null,
      "outputs": [
        {
          "output_type": "stream",
          "name": "stderr",
          "text": [
            "/usr/local/lib/python3.7/dist-packages/ipykernel_launcher.py:2: SettingWithCopyWarning: \n",
            "A value is trying to be set on a copy of a slice from a DataFrame.\n",
            "Try using .loc[row_indexer,col_indexer] = value instead\n",
            "\n",
            "See the caveats in the documentation: https://pandas.pydata.org/pandas-docs/stable/user_guide/indexing.html#returning-a-view-versus-a-copy\n",
            "  \n"
          ]
        }
      ]
    },
    {
      "cell_type": "code",
      "source": [
        "#import datetime as datetime\n",
        "df1['LESION_DATE']=pd.to_datetime(df1['LESION_DATE']) #dataframe 날짜 형식 변환: pd.to_datetime(df['col name'])\n",
        "df1['CHART_NO'] = df1['CHART_NO'].astype(int) "
      ],
      "metadata": {
        "id": "RgwbwJl7Zqt2"
      },
      "execution_count": null,
      "outputs": []
    },
    {
      "cell_type": "code",
      "source": [
        "df1.info()"
      ],
      "metadata": {
        "colab": {
          "base_uri": "https://localhost:8080/"
        },
        "id": "Fc4zNguCj1qt",
        "outputId": "3991b0d8-64b8-478a-ba43-09578f29f1e6"
      },
      "execution_count": 57,
      "outputs": [
        {
          "output_type": "stream",
          "name": "stdout",
          "text": [
            "<class 'pandas.core.frame.DataFrame'>\n",
            "Int64Index: 30161 entries, 0 to 30165\n",
            "Data columns (total 3 columns):\n",
            " #   Column       Non-Null Count  Dtype         \n",
            "---  ------       --------------  -----         \n",
            " 0   CHART_NO     30161 non-null  int64         \n",
            " 1   LESION_DATE  30161 non-null  datetime64[ns]\n",
            " 2   STEMI_1      30161 non-null  int64         \n",
            "dtypes: datetime64[ns](1), int64(2)\n",
            "memory usage: 942.5 KB\n"
          ]
        }
      ]
    },
    {
      "cell_type": "markdown",
      "source": [
        "(1) CHART_NO 별 가장 예전의 LESION_DATE만 가져오기 (df2)"
      ],
      "metadata": {
        "id": "qRQ6ra-kX_uM"
      }
    },
    {
      "cell_type": "code",
      "source": [
        "# 30161 = 2729 + 27432\n",
        "df_s1 = df1[df1['STEMI_1']==1] #2729\n",
        "df_s0 = df1[df1['STEMI_1']==0] #27432"
      ],
      "metadata": {
        "id": "OMOHv081OzXy"
      },
      "execution_count": 62,
      "outputs": []
    },
    {
      "cell_type": "code",
      "source": [
        "# CHART_NO 별 가장 예전 날짜만 추출(groupby)\n",
        "df_s1 = df_s1.groupby('CHART_NO').min().reset_index() #2158 : unique\n",
        "df_s0 = df_s0.groupby('CHART_NO').min().reset_index() #18379 : unique \n",
        "\n",
        "# total : 20537"
      ],
      "metadata": {
        "id": "eCiRaUmcOzaN"
      },
      "execution_count": 66,
      "outputs": []
    },
    {
      "cell_type": "markdown",
      "source": [
        "(2) df_s1, df_s0 간의 중복 제거 (df_s1 살리기)"
      ],
      "metadata": {
        "id": "-txUNbdpWc5J"
      }
    },
    {
      "cell_type": "code",
      "source": [
        "# df_s1과 df_s0 간에 CHART_NO가 같은 경우는, df_s1만 살리고 df_s0은 버린다.\n",
        "# 결합 데이터프레임에서 중복된 행은 지우는데, STEMI_1==1인건 남기고 0만 지운다.\n",
        "# 결합 데이터프레임에서 중복된 행이 뭔지 확인하기\n",
        "df_min_duplicated = pd.concat([df_s1 , df_s0]).reset_index(drop=True) #20537"
      ],
      "metadata": {
        "id": "L5dFB_c_Ozcx"
      },
      "execution_count": 70,
      "outputs": []
    },
    {
      "cell_type": "code",
      "source": [
        "# 인덱스 붙이기\n",
        "df_min_duplicated.reset_index(inplace=True)"
      ],
      "metadata": {
        "id": "0wAgc1LGVA1V"
      },
      "execution_count": 87,
      "outputs": []
    },
    {
      "cell_type": "code",
      "source": [
        "dup=df_min_duplicated[df_min_duplicated['CHART_NO'].duplicated()] #407 (전부 STEMI_1==0)..고맙다 파이썬"
      ],
      "metadata": {
        "id": "Ryo9FA1QTHLE"
      },
      "execution_count": 88,
      "outputs": []
    },
    {
      "cell_type": "code",
      "source": [
        "# 중복행 인덱스 뽑아내기\n",
        "dup_index=dup['index'].to_list()"
      ],
      "metadata": {
        "id": "My4WTjyiTTlS"
      },
      "execution_count": 91,
      "outputs": []
    },
    {
      "cell_type": "code",
      "source": [
        "#결합데이터(df_min_duplicated)에서 dup에 해당하는 행을 모두 제거하면 된다!\n",
        "df_min = df_min_duplicated.drop(dup_index)"
      ],
      "metadata": {
        "id": "qcn_BLRZTo5H"
      },
      "execution_count": 94,
      "outputs": []
    },
    {
      "cell_type": "markdown",
      "source": [
        "(3) table 합치기 (df_min + df_scrap) merge"
      ],
      "metadata": {
        "id": "synCEKOcYoMN"
      }
    },
    {
      "cell_type": "code",
      "source": [
        "df3 = pd.merge(df_min, df_scrap, how='left', on='CHART_NO')"
      ],
      "metadata": {
        "id": "X6CyMs8QBl2J"
      },
      "execution_count": 95,
      "outputs": []
    },
    {
      "cell_type": "code",
      "source": [
        "df3 = df3.dropna(axis=0) #결측값 제거"
      ],
      "metadata": {
        "id": "6SLlMGW1CQuD"
      },
      "execution_count": 97,
      "outputs": []
    },
    {
      "cell_type": "code",
      "source": [
        "df_komate = df3.drop(['CHART_NO', 'index'], axis=1) # 특정 열 삭제"
      ],
      "metadata": {
        "id": "P7tZXa5PCpqN"
      },
      "execution_count": 102,
      "outputs": []
    },
    {
      "cell_type": "code",
      "source": [
        "df_komate.info()"
      ],
      "metadata": {
        "colab": {
          "base_uri": "https://localhost:8080/"
        },
        "id": "rLRJ4XqFDBmB",
        "outputId": "06986153-2a1f-439f-8957-67c364c6c37c"
      },
      "execution_count": 103,
      "outputs": [
        {
          "output_type": "stream",
          "name": "stdout",
          "text": [
            "<class 'pandas.core.frame.DataFrame'>\n",
            "Int64Index: 20030 entries, 0 to 20121\n",
            "Data columns (total 3 columns):\n",
            " #   Column       Non-Null Count  Dtype         \n",
            "---  ------       --------------  -----         \n",
            " 0   LESION_DATE  20030 non-null  datetime64[ns]\n",
            " 1   STEMI_1      20030 non-null  int64         \n",
            " 2   AIsUnitNO    20030 non-null  float64       \n",
            "dtypes: datetime64[ns](1), float64(1), int64(1)\n",
            "memory usage: 625.9 KB\n"
          ]
        }
      ]
    },
    {
      "cell_type": "code",
      "source": [
        "# 저장\n",
        "df_komate.to_csv('drive/MyDrive/ECG_AMI/KOMATE_unique_patient_oldest_ecg.csv')"
      ],
      "metadata": {
        "id": "7hIXusSrnWsP"
      },
      "execution_count": 108,
      "outputs": []
    },
    {
      "cell_type": "code",
      "source": [
        "df_komate"
      ],
      "metadata": {
        "colab": {
          "base_uri": "https://localhost:8080/",
          "height": 424
        },
        "id": "ImkhpWqy4WGX",
        "outputId": "7cc7c1bd-1140-4484-f872-b31df3ca4f06"
      },
      "execution_count": 104,
      "outputs": [
        {
          "output_type": "execute_result",
          "data": {
            "text/plain": [
              "      LESION_DATE  STEMI_1   AIsUnitNO\n",
              "0      2008-03-01        1   1806094.0\n",
              "1      2013-11-23        1   2887603.0\n",
              "2      2012-05-29        1   3997298.0\n",
              "3      2006-12-06        1   3544396.0\n",
              "4      2010-06-18        1   3390278.0\n",
              "...           ...      ...         ...\n",
              "20117  2022-02-21        0  10646723.0\n",
              "20118  2022-02-24        0  10647947.0\n",
              "20119  2022-02-23        0  10650951.0\n",
              "20120  2022-02-24        0  10650635.0\n",
              "20121  2022-02-28        0  10654265.0\n",
              "\n",
              "[20030 rows x 3 columns]"
            ],
            "text/html": [
              "\n",
              "  <div id=\"df-3fd781fa-d89f-4959-9fd6-622d0b557e35\">\n",
              "    <div class=\"colab-df-container\">\n",
              "      <div>\n",
              "<style scoped>\n",
              "    .dataframe tbody tr th:only-of-type {\n",
              "        vertical-align: middle;\n",
              "    }\n",
              "\n",
              "    .dataframe tbody tr th {\n",
              "        vertical-align: top;\n",
              "    }\n",
              "\n",
              "    .dataframe thead th {\n",
              "        text-align: right;\n",
              "    }\n",
              "</style>\n",
              "<table border=\"1\" class=\"dataframe\">\n",
              "  <thead>\n",
              "    <tr style=\"text-align: right;\">\n",
              "      <th></th>\n",
              "      <th>LESION_DATE</th>\n",
              "      <th>STEMI_1</th>\n",
              "      <th>AIsUnitNO</th>\n",
              "    </tr>\n",
              "  </thead>\n",
              "  <tbody>\n",
              "    <tr>\n",
              "      <th>0</th>\n",
              "      <td>2008-03-01</td>\n",
              "      <td>1</td>\n",
              "      <td>1806094.0</td>\n",
              "    </tr>\n",
              "    <tr>\n",
              "      <th>1</th>\n",
              "      <td>2013-11-23</td>\n",
              "      <td>1</td>\n",
              "      <td>2887603.0</td>\n",
              "    </tr>\n",
              "    <tr>\n",
              "      <th>2</th>\n",
              "      <td>2012-05-29</td>\n",
              "      <td>1</td>\n",
              "      <td>3997298.0</td>\n",
              "    </tr>\n",
              "    <tr>\n",
              "      <th>3</th>\n",
              "      <td>2006-12-06</td>\n",
              "      <td>1</td>\n",
              "      <td>3544396.0</td>\n",
              "    </tr>\n",
              "    <tr>\n",
              "      <th>4</th>\n",
              "      <td>2010-06-18</td>\n",
              "      <td>1</td>\n",
              "      <td>3390278.0</td>\n",
              "    </tr>\n",
              "    <tr>\n",
              "      <th>...</th>\n",
              "      <td>...</td>\n",
              "      <td>...</td>\n",
              "      <td>...</td>\n",
              "    </tr>\n",
              "    <tr>\n",
              "      <th>20117</th>\n",
              "      <td>2022-02-21</td>\n",
              "      <td>0</td>\n",
              "      <td>10646723.0</td>\n",
              "    </tr>\n",
              "    <tr>\n",
              "      <th>20118</th>\n",
              "      <td>2022-02-24</td>\n",
              "      <td>0</td>\n",
              "      <td>10647947.0</td>\n",
              "    </tr>\n",
              "    <tr>\n",
              "      <th>20119</th>\n",
              "      <td>2022-02-23</td>\n",
              "      <td>0</td>\n",
              "      <td>10650951.0</td>\n",
              "    </tr>\n",
              "    <tr>\n",
              "      <th>20120</th>\n",
              "      <td>2022-02-24</td>\n",
              "      <td>0</td>\n",
              "      <td>10650635.0</td>\n",
              "    </tr>\n",
              "    <tr>\n",
              "      <th>20121</th>\n",
              "      <td>2022-02-28</td>\n",
              "      <td>0</td>\n",
              "      <td>10654265.0</td>\n",
              "    </tr>\n",
              "  </tbody>\n",
              "</table>\n",
              "<p>20030 rows × 3 columns</p>\n",
              "</div>\n",
              "      <button class=\"colab-df-convert\" onclick=\"convertToInteractive('df-3fd781fa-d89f-4959-9fd6-622d0b557e35')\"\n",
              "              title=\"Convert this dataframe to an interactive table.\"\n",
              "              style=\"display:none;\">\n",
              "        \n",
              "  <svg xmlns=\"http://www.w3.org/2000/svg\" height=\"24px\"viewBox=\"0 0 24 24\"\n",
              "       width=\"24px\">\n",
              "    <path d=\"M0 0h24v24H0V0z\" fill=\"none\"/>\n",
              "    <path d=\"M18.56 5.44l.94 2.06.94-2.06 2.06-.94-2.06-.94-.94-2.06-.94 2.06-2.06.94zm-11 1L8.5 8.5l.94-2.06 2.06-.94-2.06-.94L8.5 2.5l-.94 2.06-2.06.94zm10 10l.94 2.06.94-2.06 2.06-.94-2.06-.94-.94-2.06-.94 2.06-2.06.94z\"/><path d=\"M17.41 7.96l-1.37-1.37c-.4-.4-.92-.59-1.43-.59-.52 0-1.04.2-1.43.59L10.3 9.45l-7.72 7.72c-.78.78-.78 2.05 0 2.83L4 21.41c.39.39.9.59 1.41.59.51 0 1.02-.2 1.41-.59l7.78-7.78 2.81-2.81c.8-.78.8-2.07 0-2.86zM5.41 20L4 18.59l7.72-7.72 1.47 1.35L5.41 20z\"/>\n",
              "  </svg>\n",
              "      </button>\n",
              "      \n",
              "  <style>\n",
              "    .colab-df-container {\n",
              "      display:flex;\n",
              "      flex-wrap:wrap;\n",
              "      gap: 12px;\n",
              "    }\n",
              "\n",
              "    .colab-df-convert {\n",
              "      background-color: #E8F0FE;\n",
              "      border: none;\n",
              "      border-radius: 50%;\n",
              "      cursor: pointer;\n",
              "      display: none;\n",
              "      fill: #1967D2;\n",
              "      height: 32px;\n",
              "      padding: 0 0 0 0;\n",
              "      width: 32px;\n",
              "    }\n",
              "\n",
              "    .colab-df-convert:hover {\n",
              "      background-color: #E2EBFA;\n",
              "      box-shadow: 0px 1px 2px rgba(60, 64, 67, 0.3), 0px 1px 3px 1px rgba(60, 64, 67, 0.15);\n",
              "      fill: #174EA6;\n",
              "    }\n",
              "\n",
              "    [theme=dark] .colab-df-convert {\n",
              "      background-color: #3B4455;\n",
              "      fill: #D2E3FC;\n",
              "    }\n",
              "\n",
              "    [theme=dark] .colab-df-convert:hover {\n",
              "      background-color: #434B5C;\n",
              "      box-shadow: 0px 1px 3px 1px rgba(0, 0, 0, 0.15);\n",
              "      filter: drop-shadow(0px 1px 2px rgba(0, 0, 0, 0.3));\n",
              "      fill: #FFFFFF;\n",
              "    }\n",
              "  </style>\n",
              "\n",
              "      <script>\n",
              "        const buttonEl =\n",
              "          document.querySelector('#df-3fd781fa-d89f-4959-9fd6-622d0b557e35 button.colab-df-convert');\n",
              "        buttonEl.style.display =\n",
              "          google.colab.kernel.accessAllowed ? 'block' : 'none';\n",
              "\n",
              "        async function convertToInteractive(key) {\n",
              "          const element = document.querySelector('#df-3fd781fa-d89f-4959-9fd6-622d0b557e35');\n",
              "          const dataTable =\n",
              "            await google.colab.kernel.invokeFunction('convertToInteractive',\n",
              "                                                     [key], {});\n",
              "          if (!dataTable) return;\n",
              "\n",
              "          const docLinkHtml = 'Like what you see? Visit the ' +\n",
              "            '<a target=\"_blank\" href=https://colab.research.google.com/notebooks/data_table.ipynb>data table notebook</a>'\n",
              "            + ' to learn more about interactive tables.';\n",
              "          element.innerHTML = '';\n",
              "          dataTable['output_type'] = 'display_data';\n",
              "          await google.colab.output.renderOutput(dataTable, element);\n",
              "          const docLink = document.createElement('div');\n",
              "          docLink.innerHTML = docLinkHtml;\n",
              "          element.appendChild(docLink);\n",
              "        }\n",
              "      </script>\n",
              "    </div>\n",
              "  </div>\n",
              "  "
            ]
          },
          "metadata": {},
          "execution_count": 104
        }
      ]
    },
    {
      "cell_type": "code",
      "source": [
        "df_komate['AIsUnitNO'].nunique()"
      ],
      "metadata": {
        "id": "_F4PNIZv4tWu",
        "colab": {
          "base_uri": "https://localhost:8080/"
        },
        "outputId": "ef59de3d-1648-4f9f-97f3-1c4398ffaf33"
      },
      "execution_count": 105,
      "outputs": [
        {
          "output_type": "execute_result",
          "data": {
            "text/plain": [
              "20030"
            ]
          },
          "metadata": {},
          "execution_count": 105
        }
      ]
    },
    {
      "cell_type": "code",
      "source": [
        "df_komate[df_komate['STEMI_1']==0]"
      ],
      "metadata": {
        "colab": {
          "base_uri": "https://localhost:8080/",
          "height": 424
        },
        "id": "kFB2w3WkFrA3",
        "outputId": "d9170ff8-87fa-43bd-9068-346686094ad8"
      },
      "execution_count": 107,
      "outputs": [
        {
          "output_type": "execute_result",
          "data": {
            "text/plain": [
              "      LESION_DATE  STEMI_1   AIsUnitNO\n",
              "2158   2009-03-05        0   4535311.0\n",
              "2159   2014-07-08        0   2161888.0\n",
              "2160   2017-11-24        0   4222459.0\n",
              "2161   2006-04-06        0   2795185.0\n",
              "2162   2008-04-24        0   3126400.0\n",
              "...           ...      ...         ...\n",
              "20117  2022-02-21        0  10646723.0\n",
              "20118  2022-02-24        0  10647947.0\n",
              "20119  2022-02-23        0  10650951.0\n",
              "20120  2022-02-24        0  10650635.0\n",
              "20121  2022-02-28        0  10654265.0\n",
              "\n",
              "[17883 rows x 3 columns]"
            ],
            "text/html": [
              "\n",
              "  <div id=\"df-f5aac75f-8a13-41e4-aab7-13b037501a5d\">\n",
              "    <div class=\"colab-df-container\">\n",
              "      <div>\n",
              "<style scoped>\n",
              "    .dataframe tbody tr th:only-of-type {\n",
              "        vertical-align: middle;\n",
              "    }\n",
              "\n",
              "    .dataframe tbody tr th {\n",
              "        vertical-align: top;\n",
              "    }\n",
              "\n",
              "    .dataframe thead th {\n",
              "        text-align: right;\n",
              "    }\n",
              "</style>\n",
              "<table border=\"1\" class=\"dataframe\">\n",
              "  <thead>\n",
              "    <tr style=\"text-align: right;\">\n",
              "      <th></th>\n",
              "      <th>LESION_DATE</th>\n",
              "      <th>STEMI_1</th>\n",
              "      <th>AIsUnitNO</th>\n",
              "    </tr>\n",
              "  </thead>\n",
              "  <tbody>\n",
              "    <tr>\n",
              "      <th>2158</th>\n",
              "      <td>2009-03-05</td>\n",
              "      <td>0</td>\n",
              "      <td>4535311.0</td>\n",
              "    </tr>\n",
              "    <tr>\n",
              "      <th>2159</th>\n",
              "      <td>2014-07-08</td>\n",
              "      <td>0</td>\n",
              "      <td>2161888.0</td>\n",
              "    </tr>\n",
              "    <tr>\n",
              "      <th>2160</th>\n",
              "      <td>2017-11-24</td>\n",
              "      <td>0</td>\n",
              "      <td>4222459.0</td>\n",
              "    </tr>\n",
              "    <tr>\n",
              "      <th>2161</th>\n",
              "      <td>2006-04-06</td>\n",
              "      <td>0</td>\n",
              "      <td>2795185.0</td>\n",
              "    </tr>\n",
              "    <tr>\n",
              "      <th>2162</th>\n",
              "      <td>2008-04-24</td>\n",
              "      <td>0</td>\n",
              "      <td>3126400.0</td>\n",
              "    </tr>\n",
              "    <tr>\n",
              "      <th>...</th>\n",
              "      <td>...</td>\n",
              "      <td>...</td>\n",
              "      <td>...</td>\n",
              "    </tr>\n",
              "    <tr>\n",
              "      <th>20117</th>\n",
              "      <td>2022-02-21</td>\n",
              "      <td>0</td>\n",
              "      <td>10646723.0</td>\n",
              "    </tr>\n",
              "    <tr>\n",
              "      <th>20118</th>\n",
              "      <td>2022-02-24</td>\n",
              "      <td>0</td>\n",
              "      <td>10647947.0</td>\n",
              "    </tr>\n",
              "    <tr>\n",
              "      <th>20119</th>\n",
              "      <td>2022-02-23</td>\n",
              "      <td>0</td>\n",
              "      <td>10650951.0</td>\n",
              "    </tr>\n",
              "    <tr>\n",
              "      <th>20120</th>\n",
              "      <td>2022-02-24</td>\n",
              "      <td>0</td>\n",
              "      <td>10650635.0</td>\n",
              "    </tr>\n",
              "    <tr>\n",
              "      <th>20121</th>\n",
              "      <td>2022-02-28</td>\n",
              "      <td>0</td>\n",
              "      <td>10654265.0</td>\n",
              "    </tr>\n",
              "  </tbody>\n",
              "</table>\n",
              "<p>17883 rows × 3 columns</p>\n",
              "</div>\n",
              "      <button class=\"colab-df-convert\" onclick=\"convertToInteractive('df-f5aac75f-8a13-41e4-aab7-13b037501a5d')\"\n",
              "              title=\"Convert this dataframe to an interactive table.\"\n",
              "              style=\"display:none;\">\n",
              "        \n",
              "  <svg xmlns=\"http://www.w3.org/2000/svg\" height=\"24px\"viewBox=\"0 0 24 24\"\n",
              "       width=\"24px\">\n",
              "    <path d=\"M0 0h24v24H0V0z\" fill=\"none\"/>\n",
              "    <path d=\"M18.56 5.44l.94 2.06.94-2.06 2.06-.94-2.06-.94-.94-2.06-.94 2.06-2.06.94zm-11 1L8.5 8.5l.94-2.06 2.06-.94-2.06-.94L8.5 2.5l-.94 2.06-2.06.94zm10 10l.94 2.06.94-2.06 2.06-.94-2.06-.94-.94-2.06-.94 2.06-2.06.94z\"/><path d=\"M17.41 7.96l-1.37-1.37c-.4-.4-.92-.59-1.43-.59-.52 0-1.04.2-1.43.59L10.3 9.45l-7.72 7.72c-.78.78-.78 2.05 0 2.83L4 21.41c.39.39.9.59 1.41.59.51 0 1.02-.2 1.41-.59l7.78-7.78 2.81-2.81c.8-.78.8-2.07 0-2.86zM5.41 20L4 18.59l7.72-7.72 1.47 1.35L5.41 20z\"/>\n",
              "  </svg>\n",
              "      </button>\n",
              "      \n",
              "  <style>\n",
              "    .colab-df-container {\n",
              "      display:flex;\n",
              "      flex-wrap:wrap;\n",
              "      gap: 12px;\n",
              "    }\n",
              "\n",
              "    .colab-df-convert {\n",
              "      background-color: #E8F0FE;\n",
              "      border: none;\n",
              "      border-radius: 50%;\n",
              "      cursor: pointer;\n",
              "      display: none;\n",
              "      fill: #1967D2;\n",
              "      height: 32px;\n",
              "      padding: 0 0 0 0;\n",
              "      width: 32px;\n",
              "    }\n",
              "\n",
              "    .colab-df-convert:hover {\n",
              "      background-color: #E2EBFA;\n",
              "      box-shadow: 0px 1px 2px rgba(60, 64, 67, 0.3), 0px 1px 3px 1px rgba(60, 64, 67, 0.15);\n",
              "      fill: #174EA6;\n",
              "    }\n",
              "\n",
              "    [theme=dark] .colab-df-convert {\n",
              "      background-color: #3B4455;\n",
              "      fill: #D2E3FC;\n",
              "    }\n",
              "\n",
              "    [theme=dark] .colab-df-convert:hover {\n",
              "      background-color: #434B5C;\n",
              "      box-shadow: 0px 1px 3px 1px rgba(0, 0, 0, 0.15);\n",
              "      filter: drop-shadow(0px 1px 2px rgba(0, 0, 0, 0.3));\n",
              "      fill: #FFFFFF;\n",
              "    }\n",
              "  </style>\n",
              "\n",
              "      <script>\n",
              "        const buttonEl =\n",
              "          document.querySelector('#df-f5aac75f-8a13-41e4-aab7-13b037501a5d button.colab-df-convert');\n",
              "        buttonEl.style.display =\n",
              "          google.colab.kernel.accessAllowed ? 'block' : 'none';\n",
              "\n",
              "        async function convertToInteractive(key) {\n",
              "          const element = document.querySelector('#df-f5aac75f-8a13-41e4-aab7-13b037501a5d');\n",
              "          const dataTable =\n",
              "            await google.colab.kernel.invokeFunction('convertToInteractive',\n",
              "                                                     [key], {});\n",
              "          if (!dataTable) return;\n",
              "\n",
              "          const docLinkHtml = 'Like what you see? Visit the ' +\n",
              "            '<a target=\"_blank\" href=https://colab.research.google.com/notebooks/data_table.ipynb>data table notebook</a>'\n",
              "            + ' to learn more about interactive tables.';\n",
              "          element.innerHTML = '';\n",
              "          dataTable['output_type'] = 'display_data';\n",
              "          await google.colab.output.renderOutput(dataTable, element);\n",
              "          const docLink = document.createElement('div');\n",
              "          docLink.innerHTML = docLinkHtml;\n",
              "          element.appendChild(docLink);\n",
              "        }\n",
              "      </script>\n",
              "    </div>\n",
              "  </div>\n",
              "  "
            ]
          },
          "metadata": {},
          "execution_count": 107
        }
      ]
    },
    {
      "cell_type": "code",
      "source": [
        "17883+2147"
      ],
      "metadata": {
        "colab": {
          "base_uri": "https://localhost:8080/"
        },
        "id": "-JSQ9PTHGafW",
        "outputId": "e68cce30-7b8d-4efa-a396-bca05b9c9f08"
      },
      "execution_count": null,
      "outputs": [
        {
          "output_type": "execute_result",
          "data": {
            "text/plain": [
              "20030"
            ]
          },
          "metadata": {},
          "execution_count": 42
        }
      ]
    }
  ]
}