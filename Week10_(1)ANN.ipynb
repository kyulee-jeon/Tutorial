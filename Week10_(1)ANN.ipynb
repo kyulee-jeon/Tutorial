{
  "cells": [
    {
      "cell_type": "markdown",
      "metadata": {
        "id": "view-in-github",
        "colab_type": "text"
      },
      "source": [
        "<a href=\"https://colab.research.google.com/github/kyulee-jeon/Tutorial/blob/main/Week10_(1)ANN.ipynb\" target=\"_parent\"><img src=\"https://colab.research.google.com/assets/colab-badge.svg\" alt=\"Open In Colab\"/></a>"
      ]
    },
    {
      "cell_type": "markdown",
      "metadata": {
        "id": "78aBxJgK0bwY"
      },
      "source": [
        "Data Loading"
      ]
    },
    {
      "cell_type": "code",
      "execution_count": null,
      "metadata": {
        "id": "FVl16F4qsiX7",
        "colab": {
          "base_uri": "https://localhost:8080/"
        },
        "outputId": "a290886f-869d-4ed3-83f4-1826f744b248"
      },
      "outputs": [
        {
          "output_type": "stream",
          "name": "stdout",
          "text": [
            "Mounted at /content/gdrive\n"
          ]
        }
      ],
      "source": [
        "#Connection to GoogleDrive \n",
        "from google.colab import drive\n",
        "drive.mount('/content/gdrive')"
      ]
    },
    {
      "cell_type": "code",
      "execution_count": null,
      "metadata": {
        "id": "L5L5cFfUPBDO"
      },
      "outputs": [],
      "source": [
        "import os\n",
        "from glob import glob\n",
        "import numpy as np\n",
        "import cv2\n",
        "import pickle\n",
        "from PIL import Image"
      ]
    },
    {
      "cell_type": "code",
      "execution_count": null,
      "metadata": {
        "id": "pCkoU1RZ2TAr"
      },
      "outputs": [],
      "source": [
        "data_path = \"/content/gdrive/MyDrive/Colab Notebooks/2022MedicalMachineLearning/data/COVID-19_Radiography_Dataset\"\n",
        "\"\"\"\n",
        "#Define the file paths\n",
        "all_covid_paths = [f for f in glob(os.path.join(data_path, 'COVID', 'images', 'COVID*.png'))]\n",
        "#all_opac_paths = [f for f in glob(os.path.join(data_path, 'Lung_Opacity', 'images', 'Lung_Opacity*.png'))]\n",
        "all_normal_paths = [f for f in glob(os.path.join(data_path, 'Normal', 'images', 'Normal*.png'))]\n",
        "# all_data_paths = all_covid_paths + all_opac_paths + all_normal_paths\n",
        "\"\"\""
      ]
    },
    {
      "cell_type": "code",
      "execution_count": null,
      "metadata": {
        "id": "AxxKzGEmO-7C"
      },
      "outputs": [],
      "source": [
        "\"\"\"\n",
        "list_x = []\n",
        "list_y = []\n",
        "\n",
        "#load the images\n",
        "for filepath in all_normal_paths[:5000]: #only upto 5000 cases due to limited resources\n",
        "  i = len(list_x)\n",
        "  list_x.append(cv2.imread(filepath,0))\n",
        "  #list_x.append(Image.open(filepath).convert('RGB')) #covert to RGB\n",
        "  if(len(list_x)==i+1): #add label only when the data is loaded\n",
        "    list_y.append(0) #label normal\n",
        "\n",
        "for filepath in all_covid_paths:\n",
        "  i = len(list_x)\n",
        "  list_x.append(cv2.imread(filepath,0))\n",
        "  #list_x.append(Image.open(filepath).convert('RGB'))\n",
        "  if(len(list_x)==i+1): #add label only when the data is loaded\n",
        "    list_y.append(1) #label covid\n",
        "\n",
        "#save the list\n",
        "with open(os.path.join(data_path, \"list_x_wk10\"), \"wb\") as f:\n",
        "  pickle.dump(list_x, f)\n",
        "with open(os.path.join(data_path, \"list_y_wk10\"), \"wb\") as f:\n",
        "  pickle.dump(list_y, f)\n",
        "\"\"\""
      ]
    },
    {
      "cell_type": "code",
      "execution_count": null,
      "metadata": {
        "id": "IyTX3fxSnU4O"
      },
      "outputs": [],
      "source": [
        "#load the list\n",
        "with open(os.path.join(data_path, \"list_x_wk10\"), \"rb\") as f:\n",
        "  list_x = pickle.load(f)\n",
        "with open(os.path.join(data_path, \"list_y_wk10\"), \"rb\") as f:\n",
        "  list_y = pickle.load(f)\n",
        "\n",
        "#list_y = list(map(lambda x: x.replace('0', 'c'), list_y))\n",
        "#list_y = list(map(lambda x: x.replace('1', 't'), list_y))"
      ]
    },
    {
      "cell_type": "code",
      "execution_count": null,
      "metadata": {
        "id": "GCLHnWJoK6Oh",
        "colab": {
          "base_uri": "https://localhost:8080/"
        },
        "outputId": "368b74f8-b1ec-4a8f-8d7e-452b4000ba29"
      },
      "outputs": [
        {
          "output_type": "stream",
          "name": "stdout",
          "text": [
            "The length of list_x is 8616\n",
            "The length of list_y is 8616\n",
            "The shape of first element of list_x is (299, 299)\n"
          ]
        }
      ],
      "source": [
        "print(\"The length of list_x is {}\".format(len(list_x)))\n",
        "print(\"The length of list_y is {}\".format(len(list_y)))\n",
        "print(\"The shape of first element of list_x is {}\".format(list_x[0].shape))"
      ]
    },
    {
      "cell_type": "code",
      "execution_count": null,
      "metadata": {
        "id": "5jdKObzkNn96"
      },
      "outputs": [],
      "source": [
        "#convert to ndarray of the data\n",
        "data_x = np.array(list_x, dtype = np.float32)\n",
        "data_y = np.array(list_y)"
      ]
    },
    {
      "cell_type": "code",
      "execution_count": null,
      "metadata": {
        "id": "XRR02Cr80sfI",
        "colab": {
          "base_uri": "https://localhost:8080/"
        },
        "outputId": "52b7ac06-56c6-4c5e-b59b-4a1b3d2ca3dc"
      },
      "outputs": [
        {
          "output_type": "execute_result",
          "data": {
            "text/plain": [
              "0    5000\n",
              "1    3616\n",
              "dtype: int64"
            ]
          },
          "metadata": {},
          "execution_count": 8
        }
      ],
      "source": [
        "#Check the class balance\n",
        "import pandas as pd\n",
        "pd.Series(data_y).value_counts()"
      ]
    },
    {
      "cell_type": "code",
      "execution_count": null,
      "metadata": {
        "id": "L4T386WMqJTn",
        "colab": {
          "base_uri": "https://localhost:8080/"
        },
        "outputId": "8c03e2a5-03f3-438a-c018-ece85cdd9530"
      },
      "outputs": [
        {
          "output_type": "execute_result",
          "data": {
            "text/plain": [
              "array([[ 0.,  0.,  0., ...,  0.,  0.,  0.],\n",
              "       [ 0.,  0.,  0., ...,  0.,  0.,  0.],\n",
              "       [ 0.,  0.,  0., ...,  0.,  0.,  0.],\n",
              "       ...,\n",
              "       [ 0.,  0.,  0., ..., 42., 54., 56.],\n",
              "       [ 0.,  0.,  4., ..., 51., 61., 62.],\n",
              "       [ 0.,  1.,  9., ..., 59., 69., 71.]], dtype=float32)"
            ]
          },
          "metadata": {},
          "execution_count": 9
        }
      ],
      "source": [
        "data_x[1]"
      ]
    },
    {
      "cell_type": "code",
      "execution_count": null,
      "metadata": {
        "id": "iX5xQaEFzMts"
      },
      "outputs": [],
      "source": [
        "data_x = data_x/255.0\n",
        "#one hot encoding\n",
        "data_y_ = data_y.reshape(-1,1)\n",
        "\n",
        "from sklearn.preprocessing import OneHotEncoder\n",
        "ohe = OneHotEncoder(sparse=False)\n",
        "ohe.fit(data_y_)\n",
        "data_y = ohe.transform(data_y_)"
      ]
    },
    {
      "cell_type": "code",
      "execution_count": null,
      "metadata": {
        "id": "KQUvOghTvEjM",
        "colab": {
          "base_uri": "https://localhost:8080/"
        },
        "outputId": "37e83075-8e3d-4307-c05e-e2b28bbd8986"
      },
      "outputs": [
        {
          "output_type": "execute_result",
          "data": {
            "text/plain": [
              "array([[0.        , 0.        , 0.        , ..., 0.        , 0.        ,\n",
              "        0.        ],\n",
              "       [0.        , 0.        , 0.        , ..., 0.        , 0.        ,\n",
              "        0.        ],\n",
              "       [0.        , 0.        , 0.        , ..., 0.        , 0.        ,\n",
              "        0.        ],\n",
              "       ...,\n",
              "       [0.        , 0.        , 0.        , ..., 0.16470589, 0.21176471,\n",
              "        0.21960784],\n",
              "       [0.        , 0.        , 0.01568628, ..., 0.2       , 0.23921569,\n",
              "        0.24313726],\n",
              "       [0.        , 0.00392157, 0.03529412, ..., 0.23137255, 0.27058825,\n",
              "        0.2784314 ]], dtype=float32)"
            ]
          },
          "metadata": {},
          "execution_count": 11
        }
      ],
      "source": [
        "data_x[1]"
      ]
    },
    {
      "cell_type": "markdown",
      "metadata": {
        "id": "8CvoWXzz0juS"
      },
      "source": [
        "Data Preprocessing"
      ]
    },
    {
      "cell_type": "code",
      "execution_count": null,
      "metadata": {
        "id": "JpIVXKa1YWTW"
      },
      "outputs": [],
      "source": [
        "# split into train test sets (stratified)\n",
        "from sklearn.model_selection import train_test_split\n",
        "x_train, x_test, y_train, y_test = train_test_split(data_x, data_y, test_size=0.20, random_state=10, stratify=data_y)"
      ]
    },
    {
      "cell_type": "code",
      "execution_count": null,
      "metadata": {
        "colab": {
          "base_uri": "https://localhost:8080/"
        },
        "id": "xo4pf6iYYuZO",
        "outputId": "f7a44960-93f8-4413-e249-296f40a0456c"
      },
      "outputs": [
        {
          "output_type": "stream",
          "name": "stdout",
          "text": [
            "(6892, 299, 299)\n",
            "(1724, 299, 299)\n",
            "(6892, 2)\n",
            "(1724, 2)\n"
          ]
        }
      ],
      "source": [
        "print(x_train.shape)\n",
        "print(x_test.shape)\n",
        "print(y_train.shape)\n",
        "print(y_test.shape)"
      ]
    },
    {
      "cell_type": "code",
      "execution_count": null,
      "metadata": {
        "id": "Ho7G3vjvqU-K"
      },
      "outputs": [],
      "source": [
        "import torch\n",
        "\n",
        "#convert ndarray(numpy) to tensor(torch)\n",
        "x_train = torch.Tensor(x_train)\n",
        "x_test = torch.Tensor(x_test)\n",
        "y_train = torch.Tensor(y_train)\n",
        "y_test = torch.Tensor(y_test)\n",
        "\n",
        "#combining train and test set in tensor dataset of torch\n",
        "ds_train = torch.utils.data.TensorDataset(x_train, y_train)\n",
        "ds_test = torch.utils.data.TensorDataset(x_test, y_test)"
      ]
    },
    {
      "cell_type": "markdown",
      "metadata": {
        "id": "KhWJ6Ry_0kdw"
      },
      "source": [
        "Defining the model"
      ]
    },
    {
      "cell_type": "code",
      "execution_count": null,
      "metadata": {
        "id": "Z9UK-02un1pK"
      },
      "outputs": [],
      "source": [
        "use_cuda = torch.cuda.is_available()\n",
        "device = torch.device('cuda' if use_cuda else 'cpu')"
      ]
    },
    {
      "cell_type": "code",
      "execution_count": null,
      "metadata": {
        "id": "oaD1ngz43tCA"
      },
      "outputs": [],
      "source": [
        "output_dim = 2\n",
        "input_dim = 89401#89401= 299*299"
      ]
    },
    {
      "cell_type": "code",
      "execution_count": null,
      "metadata": {
        "id": "sGPXX8K7oAkK"
      },
      "outputs": [],
      "source": [
        "from torch import nn\n",
        "import torch.nn.functional as F\n",
        "class Net(nn.Module):\n",
        "    def __init__(self):\n",
        "        super(Net, self).__init__()\n",
        "        self.fc1 = nn.Linear(input_dim, 256) #89401= 299*299\n",
        "        self.fc2 = nn.Linear(256, 128)\n",
        "        self.fc3 = nn.Linear(128, output_dim)\n",
        "\n",
        "    def forward(self, x):\n",
        "        x = x.view(-1, input_dim)\n",
        "        x = F.relu(self.fc1(x))\n",
        "        x = F.relu(self.fc2(x))\n",
        "        x = self.fc3(x)\n",
        "        return x"
      ]
    },
    {
      "cell_type": "markdown",
      "metadata": {
        "id": "2KII0VYxcsbm"
      },
      "source": [
        "![neural_network(http-  www.mplsvpn.info 2017 11 what-is-neuron-and-artificial-neuron-in.html).jpeg](data:image/jpeg;base64,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)\n",
        "source: www.mplsvpn.info 2017 11 what-is-neuron-and-artificial-neuron-in.html"
      ]
    },
    {
      "cell_type": "code",
      "execution_count": null,
      "metadata": {
        "id": "W9akIRakoh9a"
      },
      "outputs": [],
      "source": [
        "model = Net().to(device)"
      ]
    },
    {
      "cell_type": "code",
      "execution_count": null,
      "metadata": {
        "id": "pswXFazCMP98",
        "colab": {
          "base_uri": "https://localhost:8080/"
        },
        "outputId": "6a7d931d-d7ef-4f3f-cbb9-8f7e568ff75a"
      },
      "outputs": [
        {
          "output_type": "stream",
          "name": "stdout",
          "text": [
            "----------------------------------------------------------------\n",
            "        Layer (type)               Output Shape         Param #\n",
            "================================================================\n",
            "            Linear-1                  [-1, 256]      22,886,912\n",
            "            Linear-2                  [-1, 128]          32,896\n",
            "            Linear-3                    [-1, 2]             258\n",
            "================================================================\n",
            "Total params: 22,920,066\n",
            "Trainable params: 22,920,066\n",
            "Non-trainable params: 0\n",
            "----------------------------------------------------------------\n",
            "Input size (MB): 0.34\n",
            "Forward/backward pass size (MB): 0.00\n",
            "Params size (MB): 87.43\n",
            "Estimated Total Size (MB): 87.78\n",
            "----------------------------------------------------------------\n"
          ]
        }
      ],
      "source": [
        "from torchsummary import summary\n",
        "summary(model, input_size = (299,299))"
      ]
    },
    {
      "cell_type": "markdown",
      "metadata": {
        "id": "jX7PNw2k0qnf"
      },
      "source": [
        "Configuration of Training"
      ]
    },
    {
      "cell_type": "code",
      "execution_count": null,
      "metadata": {
        "id": "xAprne7r0bkQ"
      },
      "outputs": [],
      "source": [
        "batch_size = 128\n",
        "epochs = 10\n",
        "learning_rate = 0.01"
      ]
    },
    {
      "cell_type": "code",
      "execution_count": null,
      "metadata": {
        "id": "GCYRMRs2sMql"
      },
      "outputs": [],
      "source": [
        "optimizer = torch.optim.SGD(model.parameters(), lr=learning_rate)"
      ]
    },
    {
      "cell_type": "code",
      "execution_count": null,
      "metadata": {
        "id": "w3FztFxkrFAP"
      },
      "outputs": [],
      "source": [
        "train_loader = torch.utils.data.DataLoader(\n",
        "    dataset = ds_train,\n",
        "    batch_size = batch_size,\n",
        "    shuffle = True\n",
        ")\n",
        "test_loader = torch.utils.data.DataLoader(\n",
        "    dataset = ds_test,\n",
        "    batch_size = batch_size,\n",
        "    shuffle = True\n",
        ")\n"
      ]
    },
    {
      "cell_type": "code",
      "execution_count": null,
      "metadata": {
        "id": "VmXMpijkr6Gl"
      },
      "outputs": [],
      "source": [
        "def train(model, train_loader, optimizer):\n",
        "    model.train()\n",
        "    for batch_idx, (data, target) in enumerate(train_loader):\n",
        "        # 학습 데이터를 DEVICE의 메모리로 보냄\n",
        "        data, target = data.to(device), target.to(device)\n",
        "        optimizer.zero_grad()\n",
        "        output = model(data)\n",
        "        loss = F.cross_entropy(output, target)\n",
        "        loss.backward()\n",
        "        optimizer.step()"
      ]
    },
    {
      "cell_type": "code",
      "execution_count": null,
      "metadata": {
        "id": "J8NYyFaYnk3a"
      },
      "outputs": [],
      "source": [
        "#Debugging\n",
        "\"\"\"\n",
        "dataiter = iter(train_loader)\n",
        "data, target = next(dataiter)\n",
        "data, target = data.to(device), target.to(device)\n",
        "optimizer.zero_grad()\n",
        "output = model(data)\n",
        "loss = F.cross_entropy(output, target)\n",
        "loss.backward()\n",
        "optimizer.step()\n",
        "\"\"\""
      ]
    },
    {
      "cell_type": "code",
      "execution_count": null,
      "metadata": {
        "id": "CPeT8Vdj-glM"
      },
      "outputs": [],
      "source": [
        "def evaluate(model, test_loader):\n",
        "    model.eval()\n",
        "    test_loss = 0\n",
        "    correct = 0\n",
        "    with torch.no_grad():\n",
        "        for data, target in test_loader:\n",
        "            data, target = data.to(device), target.to(device)\n",
        "            output = model(data)\n",
        "\n",
        "            # sum of all loss values\n",
        "            test_loss += F.cross_entropy(output, target,reduction='sum').item()\n",
        "            \n",
        "            # the class with the maximal value is the predicted value\n",
        "            pred = output.max(1, keepdim=True)[1]\n",
        "            target_label = target.max(1, keepdim=True)[1]\n",
        "            correct += pred.eq(target_label.view_as(pred)).sum().item()\n",
        "\n",
        "    test_loss /= len(test_loader.dataset)\n",
        "    test_accuracy = 100. * correct / len(test_loader.dataset)\n",
        "    return test_loss, test_accuracy"
      ]
    },
    {
      "cell_type": "code",
      "execution_count": null,
      "metadata": {
        "id": "XHfDAzBLnrgN"
      },
      "outputs": [],
      "source": [
        "#Debugging\n",
        "\"\"\"\n",
        "dataiter = iter(train_loader)\n",
        "data, target = next(dataiter)\n",
        "data, target = data.to(device), target.to(device)\n",
        "optimizer.zero_grad()\n",
        "output = model(data)\n",
        "loss = F.cross_entropy(output, target)\n",
        "loss.backward()\n",
        "optimizer.step()\n",
        "\"\"\""
      ]
    },
    {
      "cell_type": "markdown",
      "metadata": {
        "id": "rtXmywEx0yeN"
      },
      "source": [
        "Fitting the model"
      ]
    },
    {
      "cell_type": "code",
      "execution_count": null,
      "metadata": {
        "id": "RrgBmK1C-iB5",
        "colab": {
          "base_uri": "https://localhost:8080/"
        },
        "outputId": "8e9fbee5-b817-4cff-830c-d05e7364c7c3"
      },
      "outputs": [
        {
          "output_type": "stream",
          "name": "stdout",
          "text": [
            "[1] Test Loss: 0.6758, Accuracy: 58.76%\n",
            "[2] Test Loss: 0.6603, Accuracy: 61.95%\n",
            "[3] Test Loss: 0.5384, Accuracy: 70.53%\n",
            "[4] Test Loss: 0.5207, Accuracy: 71.93%\n",
            "[5] Test Loss: 0.6664, Accuracy: 61.66%\n",
            "[6] Test Loss: 0.5007, Accuracy: 74.77%\n",
            "[7] Test Loss: 0.4941, Accuracy: 75.52%\n",
            "[8] Test Loss: 0.5422, Accuracy: 72.68%\n",
            "[9] Test Loss: 0.5314, Accuracy: 71.46%\n"
          ]
        }
      ],
      "source": [
        "for epoch in range(1, epochs):\n",
        "  train(model, train_loader, optimizer)\n",
        "  test_loss, test_accuracy = evaluate(model, test_loader)\n",
        "\n",
        "  print('[{}] Test Loss: {:.4f}, Accuracy: {:.2f}%'. format(epoch, test_loss, test_accuracy))"
      ]
    },
    {
      "cell_type": "markdown",
      "metadata": {
        "id": "EwKyVVSh0b2X"
      },
      "source": []
    }
  ],
  "metadata": {
    "colab": {
      "provenance": [],
      "include_colab_link": true
    },
    "gpuClass": "standard",
    "kernelspec": {
      "display_name": "Python 3",
      "name": "python3"
    },
    "language_info": {
      "name": "python"
    }
  },
  "nbformat": 4,
  "nbformat_minor": 0
}