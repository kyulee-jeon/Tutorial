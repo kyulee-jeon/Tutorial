{
  "cells": [
    {
      "cell_type": "markdown",
      "metadata": {
        "id": "view-in-github",
        "colab_type": "text"
      },
      "source": [
        "<a href=\"https://colab.research.google.com/github/kyulee-jeon/Tutorial/blob/main/Week10_(2)CNN.ipynb\" target=\"_parent\"><img src=\"https://colab.research.google.com/assets/colab-badge.svg\" alt=\"Open In Colab\"/></a>"
      ]
    },
    {
      "cell_type": "markdown",
      "metadata": {
        "id": "78aBxJgK0bwY"
      },
      "source": [
        "Data Loading"
      ]
    },
    {
      "cell_type": "code",
      "execution_count": null,
      "metadata": {
        "colab": {
          "base_uri": "https://localhost:8080/"
        },
        "id": "FVl16F4qsiX7",
        "outputId": "966b7554-6002-4ecf-c005-8e943eb647c3"
      },
      "outputs": [
        {
          "output_type": "stream",
          "name": "stdout",
          "text": [
            "Mounted at /content/gdrive\n"
          ]
        }
      ],
      "source": [
        "#Connection to GoogleDrive \n",
        "from google.colab import drive\n",
        "drive.mount('/content/gdrive')"
      ]
    },
    {
      "cell_type": "code",
      "execution_count": null,
      "metadata": {
        "id": "L5L5cFfUPBDO"
      },
      "outputs": [],
      "source": [
        "import os\n",
        "from glob import glob\n",
        "import numpy as np\n",
        "import cv2\n",
        "import pickle\n",
        "from PIL import Image"
      ]
    },
    {
      "cell_type": "code",
      "execution_count": null,
      "metadata": {
        "colab": {
          "base_uri": "https://localhost:8080/",
          "height": 108
        },
        "id": "pCkoU1RZ2TAr",
        "outputId": "4fd9b29d-fe45-48f3-c214-ee64e3fc449a"
      },
      "outputs": [
        {
          "output_type": "execute_result",
          "data": {
            "text/plain": [
              "\"\\n#Define the file paths\\nall_covid_paths = [f for f in glob(os.path.join(data_path, 'COVID', 'images', 'COVID*.png'))]\\n#all_opac_paths = [f for f in glob(os.path.join(data_path, 'Lung_Opacity', 'images', 'Lung_Opacity*.png'))]\\nall_normal_paths = [f for f in glob(os.path.join(data_path, 'Normal', 'images', 'Normal*.png'))]\\n# all_data_paths = all_covid_paths + all_opac_paths + all_normal_paths\\n\""
            ],
            "application/vnd.google.colaboratory.intrinsic+json": {
              "type": "string"
            }
          },
          "metadata": {},
          "execution_count": 3
        }
      ],
      "source": [
        "data_path = \"/content/gdrive/MyDrive/Colab Notebooks/2022MedicalMachineLearning/data/COVID-19_Radiography_Dataset\"\n",
        "\"\"\"\n",
        "#Define the file paths\n",
        "all_covid_paths = [f for f in glob(os.path.join(data_path, 'COVID', 'images', 'COVID*.png'))]\n",
        "#all_opac_paths = [f for f in glob(os.path.join(data_path, 'Lung_Opacity', 'images', 'Lung_Opacity*.png'))]\n",
        "all_normal_paths = [f for f in glob(os.path.join(data_path, 'Normal', 'images', 'Normal*.png'))]\n",
        "# all_data_paths = all_covid_paths + all_opac_paths + all_normal_paths\n",
        "\"\"\""
      ]
    },
    {
      "cell_type": "code",
      "execution_count": null,
      "metadata": {
        "colab": {
          "base_uri": "https://localhost:8080/",
          "height": 180
        },
        "id": "AxxKzGEmO-7C",
        "outputId": "54dc117f-2851-4ed1-e8b5-592c0bee5c65"
      },
      "outputs": [
        {
          "output_type": "execute_result",
          "data": {
            "text/plain": [
              "'\\nlist_x = []\\nlist_y = []\\n\\n#load the images\\nfor filepath in all_normal_paths[:5000]: #only upto 5000 cases due to limited resources\\n  i = len(list_x)\\n  list_x.append(cv2.imread(filepath,0))\\n  #list_x.append(Image.open(filepath).convert(\\'RGB\\')) #covert to RGB\\n  if(len(list_x)==i+1): #add label only when the data is loaded\\n    list_y.append(0) #label normal\\n\\nfor filepath in all_covid_paths:\\n  i = len(list_x)\\n  list_x.append(cv2.imread(filepath,0))\\n  #list_x.append(Image.open(filepath).convert(\\'RGB\\'))\\n  if(len(list_x)==i+1): #add label only when the data is loaded\\n    list_y.append(1) #label covid\\n\\n#save the list\\nwith open(os.path.join(data_path, \"list_x_wk10\"), \"wb\") as f:\\n  pickle.dump(list_x, f)\\nwith open(os.path.join(data_path, \"list_y_wk10\"), \"wb\") as f:\\n  pickle.dump(list_y, f)\\n'"
            ],
            "application/vnd.google.colaboratory.intrinsic+json": {
              "type": "string"
            }
          },
          "metadata": {},
          "execution_count": 4
        }
      ],
      "source": [
        "\"\"\"\n",
        "list_x = []\n",
        "list_y = []\n",
        "\n",
        "#load the images\n",
        "for filepath in all_normal_paths[:5000]: #only upto 5000 cases due to limited resources\n",
        "  i = len(list_x)\n",
        "  list_x.append(cv2.imread(filepath,0))\n",
        "  #list_x.append(Image.open(filepath).convert('RGB')) #covert to RGB\n",
        "  if(len(list_x)==i+1): #add label only when the data is loaded\n",
        "    list_y.append(0) #label normal\n",
        "\n",
        "for filepath in all_covid_paths:\n",
        "  i = len(list_x)\n",
        "  list_x.append(cv2.imread(filepath,0))\n",
        "  #list_x.append(Image.open(filepath).convert('RGB'))\n",
        "  if(len(list_x)==i+1): #add label only when the data is loaded\n",
        "    list_y.append(1) #label covid\n",
        "\n",
        "#save the list\n",
        "with open(os.path.join(data_path, \"list_x_wk10\"), \"wb\") as f:\n",
        "  pickle.dump(list_x, f)\n",
        "with open(os.path.join(data_path, \"list_y_wk10\"), \"wb\") as f:\n",
        "  pickle.dump(list_y, f)\n",
        "\"\"\""
      ]
    },
    {
      "cell_type": "code",
      "execution_count": null,
      "metadata": {
        "id": "IyTX3fxSnU4O"
      },
      "outputs": [],
      "source": [
        "#load the list\n",
        "with open(os.path.join(data_path, \"list_x_wk10\"), \"rb\") as f:\n",
        "  list_x = pickle.load(f)\n",
        "with open(os.path.join(data_path, \"list_y_wk10\"), \"rb\") as f:\n",
        "  list_y = pickle.load(f)\n",
        "#list_y = list(map(lambda x: x.replace('0', 'c'), list_y))\n",
        "#list_y = list(map(lambda x: x.replace('1', 't'), list_y))"
      ]
    },
    {
      "cell_type": "code",
      "execution_count": null,
      "metadata": {
        "colab": {
          "base_uri": "https://localhost:8080/"
        },
        "id": "GCLHnWJoK6Oh",
        "outputId": "40df2e7e-96c4-414f-9602-e63777fe0aa6"
      },
      "outputs": [
        {
          "output_type": "stream",
          "name": "stdout",
          "text": [
            "The length of list_x is 8616\n",
            "The length of list_y is 8616\n",
            "The shape of first element of list_x is (299, 299)\n"
          ]
        }
      ],
      "source": [
        "print(\"The length of list_x is {}\".format(len(list_x)))\n",
        "print(\"The length of list_y is {}\".format(len(list_y)))\n",
        "print(\"The shape of first element of list_x is {}\".format(list_x[0].shape))"
      ]
    },
    {
      "cell_type": "code",
      "execution_count": null,
      "metadata": {
        "id": "5jdKObzkNn96"
      },
      "outputs": [],
      "source": [
        "#convert to ndarray of the data\n",
        "data_x = np.array(list_x, dtype = np.float32)\n",
        "data_y = np.array(list_y)"
      ]
    },
    {
      "cell_type": "code",
      "execution_count": null,
      "metadata": {
        "colab": {
          "base_uri": "https://localhost:8080/"
        },
        "id": "XRR02Cr80sfI",
        "outputId": "411a7e39-98ee-4971-d651-374ca26328fb"
      },
      "outputs": [
        {
          "output_type": "execute_result",
          "data": {
            "text/plain": [
              "0    5000\n",
              "1    3616\n",
              "dtype: int64"
            ]
          },
          "metadata": {},
          "execution_count": 7
        }
      ],
      "source": [
        "#Check the class balance\n",
        "import pandas as pd\n",
        "pd.Series(data_y).value_counts()"
      ]
    },
    {
      "cell_type": "code",
      "execution_count": null,
      "metadata": {
        "id": "iX5xQaEFzMts"
      },
      "outputs": [],
      "source": [
        "data_x = data_x/255.0\n",
        "#one hot encoding\n",
        "data_y_ = data_y.reshape(-1,1)\n",
        "\n",
        "from sklearn.preprocessing import OneHotEncoder\n",
        "ohe = OneHotEncoder(sparse=False)\n",
        "ohe.fit(data_y_)\n",
        "data_y = ohe.transform(data_y_)"
      ]
    },
    {
      "cell_type": "markdown",
      "metadata": {
        "id": "8CvoWXzz0juS"
      },
      "source": [
        "Data Preprocessing"
      ]
    },
    {
      "cell_type": "code",
      "execution_count": null,
      "metadata": {
        "id": "kb9dO5PEfFTM"
      },
      "outputs": [],
      "source": [
        "# add a dimension for channel\n",
        "data_x = np.expand_dims(data_x, axis = 1)"
      ]
    },
    {
      "cell_type": "code",
      "source": [
        "data_x.shape"
      ],
      "metadata": {
        "colab": {
          "base_uri": "https://localhost:8080/"
        },
        "id": "UlH7UsnsSJTw",
        "outputId": "a77c6f7c-afe0-471b-f04f-4f5df831fd2a"
      },
      "execution_count": null,
      "outputs": [
        {
          "output_type": "execute_result",
          "data": {
            "text/plain": [
              "(8616, 1, 299, 299)"
            ]
          },
          "metadata": {},
          "execution_count": 10
        }
      ]
    },
    {
      "cell_type": "code",
      "execution_count": null,
      "metadata": {
        "id": "JpIVXKa1YWTW"
      },
      "outputs": [],
      "source": [
        "# split into train test sets (stratified)\n",
        "from sklearn.model_selection import train_test_split\n",
        "x_train, x_test, y_train, y_test = train_test_split(data_x, data_y, test_size=0.20, random_state=10, stratify=data_y)"
      ]
    },
    {
      "cell_type": "code",
      "execution_count": null,
      "metadata": {
        "colab": {
          "base_uri": "https://localhost:8080/"
        },
        "id": "xo4pf6iYYuZO",
        "outputId": "09315f41-7446-48af-f739-62918f8a8822"
      },
      "outputs": [
        {
          "output_type": "stream",
          "name": "stdout",
          "text": [
            "(6892, 1, 299, 299)\n",
            "(1724, 1, 299, 299)\n",
            "(6892, 2)\n",
            "(1724, 2)\n"
          ]
        }
      ],
      "source": [
        "print(x_train.shape)\n",
        "print(x_test.shape)\n",
        "print(y_train.shape)\n",
        "print(y_test.shape)"
      ]
    },
    {
      "cell_type": "code",
      "execution_count": null,
      "metadata": {
        "id": "Ho7G3vjvqU-K"
      },
      "outputs": [],
      "source": [
        "import torch\n",
        "\n",
        "#convert ndarray(numpy) to tensor(torch)\n",
        "x_train = torch.Tensor(x_train)\n",
        "x_test = torch.Tensor(x_test)\n",
        "y_train = torch.Tensor(y_train)\n",
        "y_test = torch.Tensor(y_test)\n",
        "\n",
        "#combining train and test set in tensor dataset of torch\n",
        "ds_train = torch.utils.data.TensorDataset(x_train, y_train)\n",
        "ds_test = torch.utils.data.TensorDataset(x_test, y_test)"
      ]
    },
    {
      "cell_type": "markdown",
      "metadata": {
        "id": "KhWJ6Ry_0kdw"
      },
      "source": [
        "**Defining the model**"
      ]
    },
    {
      "cell_type": "code",
      "execution_count": null,
      "metadata": {
        "id": "Z9UK-02un1pK"
      },
      "outputs": [],
      "source": [
        "use_cuda = torch.cuda.is_available()\n",
        "device = torch.device('cuda' if use_cuda else 'cpu')"
      ]
    },
    {
      "cell_type": "code",
      "source": [
        "device"
      ],
      "metadata": {
        "colab": {
          "base_uri": "https://localhost:8080/"
        },
        "id": "t-rWScbeSRJn",
        "outputId": "6564204b-3b17-4d83-cacb-ddbd07e6d6f9"
      },
      "execution_count": null,
      "outputs": [
        {
          "output_type": "execute_result",
          "data": {
            "text/plain": [
              "device(type='cuda')"
            ]
          },
          "metadata": {},
          "execution_count": 15
        }
      ]
    },
    {
      "cell_type": "code",
      "execution_count": null,
      "metadata": {
        "id": "oaD1ngz43tCA"
      },
      "outputs": [],
      "source": [
        "output_dim = 2\n",
        "input_dim = 89401#89401= 299*299"
      ]
    },
    {
      "cell_type": "markdown",
      "source": [
        "![CNN.png](data:image/png;base64,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)"
      ],
      "metadata": {
        "id": "lanOOkAggonL"
      }
    },
    {
      "cell_type": "code",
      "execution_count": null,
      "metadata": {
        "id": "IgEuNRuIbFxV"
      },
      "outputs": [],
      "source": [
        "from torch import nn\n",
        "import torch.nn.functional as F\n",
        "class Net(nn.Module):\n",
        "    def __init__(self):\n",
        "        super(Net, self).__init__()\n",
        "        self.conv1 = nn.Conv2d(in_channels = 1, out_channels = 5, kernel_size = 8, stride = 1) #299*299*1 -> 296*296*5\n",
        "        self.conv2 = nn.Conv2d(5, 10, kernel_size = 5) #296*296*10\n",
        "        self.conv2_drop = nn.Dropout2d()\n",
        "        self.fc1 = nn.Linear(640, 20)\n",
        "        self.fc2 = nn.Linear(20, output_dim)\n",
        "\n",
        "    def forward(self, x):\n",
        "        x = F.relu(F.max_pool2d(self.conv1(x), 8)) #299*299*1 -> 292*292*5 -> 36*36*5\n",
        "        x = F.relu(F.max_pool2d(self.conv2_drop(self.conv2(x)),4)) #36*36*5 -> 32*32*10 -> 8*8*10\n",
        "        x = x.view(-1, 640)\n",
        "        x = F.relu(self.fc1(x))\n",
        "        x = F.dropout(x, training=self.training)\n",
        "        x = self.fc2(x)\n",
        "        return x"
      ]
    },
    {
      "cell_type": "code",
      "execution_count": null,
      "metadata": {
        "colab": {
          "base_uri": "https://localhost:8080/",
          "height": 53
        },
        "id": "aa8P5MRIb8HP",
        "outputId": "524015ca-118c-483f-c3bd-e4d05db7014e"
      },
      "outputs": [
        {
          "output_type": "execute_result",
          "data": {
            "text/plain": [
              "'\\nW = 299 #no. of dimension\\nK = 5 #kernel\\nP = 0 #padding\\nS = 1 #stride\\nM = 2 max pooling\\n\\nW = ((W - K + 2*P)/S)+1\\nW = W/M #after max pooling\\n'"
            ],
            "application/vnd.google.colaboratory.intrinsic+json": {
              "type": "string"
            }
          },
          "metadata": {},
          "execution_count": 17
        }
      ],
      "source": [
        "\"\"\"\n",
        "W = 299 #no. of dimension\n",
        "K = 5 #kernel\n",
        "P = 0 #padding\n",
        "S = 1 #stride\n",
        "M = 2 max pooling\n",
        "\n",
        "W = ((W - K + 2*P)/S)+1\n",
        "W = W/M #after max pooling\n",
        "\"\"\""
      ]
    },
    {
      "cell_type": "code",
      "execution_count": null,
      "metadata": {
        "id": "IDtUma2kbTE6"
      },
      "outputs": [],
      "source": [
        "model = Net().to(device)"
      ]
    },
    {
      "cell_type": "code",
      "source": [
        "from torchsummary import summary\n",
        "summary(model, input_size = (1, 299, 299))"
      ],
      "metadata": {
        "colab": {
          "base_uri": "https://localhost:8080/"
        },
        "id": "HSts9YMcLoqv",
        "outputId": "c62db962-f563-41da-ec73-dbee1945f3af"
      },
      "execution_count": null,
      "outputs": [
        {
          "output_type": "stream",
          "name": "stdout",
          "text": [
            "----------------------------------------------------------------\n",
            "        Layer (type)               Output Shape         Param #\n",
            "================================================================\n",
            "            Conv2d-1          [-1, 5, 292, 292]             325\n",
            "            Conv2d-2           [-1, 10, 32, 32]           1,260\n",
            "         Dropout2d-3           [-1, 10, 32, 32]               0\n",
            "            Linear-4                   [-1, 20]          12,820\n",
            "            Linear-5                    [-1, 2]              42\n",
            "================================================================\n",
            "Total params: 14,447\n",
            "Trainable params: 14,447\n",
            "Non-trainable params: 0\n",
            "----------------------------------------------------------------\n",
            "Input size (MB): 0.34\n",
            "Forward/backward pass size (MB): 3.41\n",
            "Params size (MB): 0.06\n",
            "Estimated Total Size (MB): 3.81\n",
            "----------------------------------------------------------------\n"
          ]
        }
      ]
    },
    {
      "cell_type": "markdown",
      "metadata": {
        "id": "jX7PNw2k0qnf"
      },
      "source": [
        "**4. Configuration of Training**"
      ]
    },
    {
      "cell_type": "code",
      "execution_count": null,
      "metadata": {
        "id": "H1Cjns8ksCEl"
      },
      "outputs": [],
      "source": [
        "batch_size = 128\n",
        "epochs = 100\n",
        "learning_rate = 0.01"
      ]
    },
    {
      "cell_type": "code",
      "execution_count": null,
      "metadata": {
        "id": "GCYRMRs2sMql"
      },
      "outputs": [],
      "source": [
        "optimizer = torch.optim.SGD(model.parameters(), lr=learning_rate)"
      ]
    },
    {
      "cell_type": "code",
      "execution_count": null,
      "metadata": {
        "id": "w3FztFxkrFAP"
      },
      "outputs": [],
      "source": [
        "train_loader = torch.utils.data.DataLoader(\n",
        "    dataset = ds_train,\n",
        "    batch_size = batch_size,\n",
        "    shuffle = True\n",
        ")\n",
        "test_loader = torch.utils.data.DataLoader(\n",
        "    dataset = ds_test,\n",
        "    batch_size = batch_size,\n",
        "    shuffle = True\n",
        ")\n"
      ]
    },
    {
      "cell_type": "code",
      "execution_count": null,
      "metadata": {
        "colab": {
          "base_uri": "https://localhost:8080/",
          "height": 53
        },
        "id": "qAZfTqMZ1tan",
        "outputId": "bc4616e8-3900-40b0-ee11-d82f3d802623"
      },
      "outputs": [
        {
          "output_type": "execute_result",
          "data": {
            "text/plain": [
              "'\\ndataiter = iter(train_loader)\\nimages, labels = next(dataiter)\\nimages.shape\\nimages[0,:,:]\\n'"
            ],
            "application/vnd.google.colaboratory.intrinsic+json": {
              "type": "string"
            }
          },
          "metadata": {},
          "execution_count": 23
        }
      ],
      "source": [
        "\"\"\"\n",
        "dataiter = iter(train_loader)\n",
        "images, labels = next(dataiter)\n",
        "images.shape\n",
        "images[0,:,:]\n",
        "\"\"\""
      ]
    },
    {
      "cell_type": "code",
      "execution_count": null,
      "metadata": {
        "id": "VmXMpijkr6Gl"
      },
      "outputs": [],
      "source": [
        "def train(model, train_loader, optimizer):\n",
        "    model.train()\n",
        "    for batch_idx, (data, target) in enumerate(train_loader):\n",
        "        # 학습 데이터를 DEVICE의 메모리로 보냄\n",
        "        data, target = data.to(device), target.to(device)\n",
        "        optimizer.zero_grad()\n",
        "        output = model(data)\n",
        "        loss = F.cross_entropy(output, target)\n",
        "        loss.backward()\n",
        "        optimizer.step()"
      ]
    },
    {
      "cell_type": "code",
      "execution_count": null,
      "metadata": {
        "id": "CPeT8Vdj-glM"
      },
      "outputs": [],
      "source": [
        "def evaluate(model, test_loader):\n",
        "    model.eval()\n",
        "    test_loss = 0\n",
        "    correct = 0\n",
        "    with torch.no_grad():\n",
        "        for data, target in test_loader:\n",
        "            data, target = data.to(device), target.to(device)\n",
        "            output = model(data)\n",
        "\n",
        "            # sum of all loss values\n",
        "            test_loss += F.cross_entropy(output, target,reduction='sum').item()\n",
        "            \n",
        "            # the class with the maximal value is the predicted value\n",
        "            pred = output.max(1, keepdim=True)[1]\n",
        "            target_label = target.max(1, keepdim=True)[1]\n",
        "            correct += (target_label==pred).sum().item()\n",
        "            \n",
        "    test_loss /= len(test_loader.dataset)\n",
        "    test_accuracy = 100. * correct / len(test_loader.dataset)\n",
        "    return test_loss, test_accuracy"
      ]
    },
    {
      "cell_type": "markdown",
      "metadata": {
        "id": "rtXmywEx0yeN"
      },
      "source": [
        "**5. Fitting the model**"
      ]
    },
    {
      "cell_type": "code",
      "execution_count": null,
      "metadata": {
        "colab": {
          "base_uri": "https://localhost:8080/"
        },
        "id": "RrgBmK1C-iB5",
        "outputId": "40371581-9ce5-417c-a397-394faf2ce0b0"
      },
      "outputs": [
        {
          "output_type": "stream",
          "name": "stdout",
          "text": [
            "[1] Test Loss: 0.6809, Accuracy: 58.00%\n",
            "[2] Test Loss: 0.6793, Accuracy: 58.00%\n",
            "[3] Test Loss: 0.6782, Accuracy: 58.00%\n",
            "[4] Test Loss: 0.6770, Accuracy: 58.00%\n",
            "[5] Test Loss: 0.6758, Accuracy: 58.00%\n",
            "[6] Test Loss: 0.6745, Accuracy: 58.00%\n",
            "[7] Test Loss: 0.6732, Accuracy: 58.00%\n",
            "[8] Test Loss: 0.6715, Accuracy: 58.00%\n",
            "[9] Test Loss: 0.6694, Accuracy: 58.00%\n",
            "[10] Test Loss: 0.6669, Accuracy: 58.00%\n",
            "[11] Test Loss: 0.6626, Accuracy: 58.00%\n",
            "[12] Test Loss: 0.6567, Accuracy: 58.00%\n",
            "[13] Test Loss: 0.6483, Accuracy: 58.00%\n",
            "[14] Test Loss: 0.6381, Accuracy: 58.00%\n",
            "[15] Test Loss: 0.6298, Accuracy: 59.92%\n",
            "[16] Test Loss: 0.6188, Accuracy: 59.86%\n",
            "[17] Test Loss: 0.6111, Accuracy: 65.78%\n",
            "[18] Test Loss: 0.6001, Accuracy: 70.71%\n",
            "[19] Test Loss: 0.5948, Accuracy: 70.59%\n",
            "[20] Test Loss: 0.6008, Accuracy: 61.02%\n",
            "[21] Test Loss: 0.5898, Accuracy: 71.00%\n",
            "[22] Test Loss: 0.5867, Accuracy: 72.51%\n",
            "[23] Test Loss: 0.5842, Accuracy: 63.46%\n",
            "[24] Test Loss: 0.5786, Accuracy: 70.30%\n",
            "[25] Test Loss: 0.5644, Accuracy: 71.17%\n",
            "[26] Test Loss: 0.5927, Accuracy: 59.11%\n",
            "[27] Test Loss: 0.5465, Accuracy: 73.38%\n",
            "[28] Test Loss: 0.5618, Accuracy: 73.32%\n",
            "[29] Test Loss: 0.5433, Accuracy: 72.74%\n",
            "[30] Test Loss: 0.5590, Accuracy: 73.67%\n",
            "[31] Test Loss: 0.5423, Accuracy: 73.78%\n",
            "[32] Test Loss: 0.5572, Accuracy: 72.62%\n",
            "[33] Test Loss: 0.5304, Accuracy: 73.55%\n",
            "[34] Test Loss: 0.5323, Accuracy: 73.20%\n",
            "[35] Test Loss: 0.5301, Accuracy: 73.96%\n",
            "[36] Test Loss: 0.5411, Accuracy: 74.83%\n",
            "[37] Test Loss: 0.5159, Accuracy: 73.90%\n",
            "[38] Test Loss: 0.5311, Accuracy: 73.43%\n",
            "[39] Test Loss: 0.5156, Accuracy: 75.23%\n",
            "[40] Test Loss: 0.5191, Accuracy: 75.41%\n",
            "[41] Test Loss: 0.5132, Accuracy: 76.45%\n",
            "[42] Test Loss: 0.5180, Accuracy: 75.87%\n",
            "[43] Test Loss: 0.5275, Accuracy: 75.12%\n",
            "[44] Test Loss: 0.5134, Accuracy: 75.52%\n",
            "[45] Test Loss: 0.4883, Accuracy: 77.26%\n",
            "[46] Test Loss: 0.4905, Accuracy: 77.09%\n",
            "[47] Test Loss: 0.4859, Accuracy: 77.90%\n",
            "[48] Test Loss: 0.4941, Accuracy: 77.55%\n",
            "[49] Test Loss: 0.4715, Accuracy: 79.29%\n",
            "[50] Test Loss: 0.4972, Accuracy: 75.29%\n",
            "[51] Test Loss: 0.4723, Accuracy: 79.35%\n",
            "[52] Test Loss: 0.4722, Accuracy: 80.16%\n",
            "[53] Test Loss: 0.4518, Accuracy: 80.10%\n",
            "[54] Test Loss: 0.4640, Accuracy: 79.35%\n",
            "[55] Test Loss: 0.4553, Accuracy: 80.16%\n",
            "[56] Test Loss: 0.4666, Accuracy: 78.60%\n",
            "[57] Test Loss: 0.4524, Accuracy: 82.02%\n",
            "[58] Test Loss: 0.4393, Accuracy: 82.02%\n",
            "[59] Test Loss: 0.4521, Accuracy: 80.05%\n",
            "[60] Test Loss: 0.4236, Accuracy: 82.48%\n",
            "[61] Test Loss: 0.4427, Accuracy: 80.05%\n",
            "[62] Test Loss: 0.4327, Accuracy: 82.02%\n",
            "[63] Test Loss: 0.4096, Accuracy: 82.89%\n",
            "[64] Test Loss: 0.4395, Accuracy: 78.77%\n",
            "[65] Test Loss: 0.4030, Accuracy: 83.00%\n",
            "[66] Test Loss: 0.3956, Accuracy: 82.60%\n",
            "[67] Test Loss: 0.3903, Accuracy: 83.53%\n",
            "[68] Test Loss: 0.3959, Accuracy: 84.45%\n",
            "[69] Test Loss: 0.3893, Accuracy: 83.82%\n",
            "[70] Test Loss: 0.3866, Accuracy: 84.34%\n",
            "[71] Test Loss: 0.3856, Accuracy: 84.63%\n",
            "[72] Test Loss: 0.3827, Accuracy: 84.86%\n",
            "[73] Test Loss: 0.3726, Accuracy: 84.74%\n",
            "[74] Test Loss: 0.3736, Accuracy: 85.32%\n",
            "[75] Test Loss: 0.3706, Accuracy: 85.38%\n",
            "[76] Test Loss: 0.3619, Accuracy: 85.61%\n",
            "[77] Test Loss: 0.3578, Accuracy: 85.73%\n",
            "[78] Test Loss: 0.3495, Accuracy: 86.14%\n",
            "[79] Test Loss: 0.3477, Accuracy: 86.25%\n",
            "[80] Test Loss: 0.3456, Accuracy: 86.43%\n",
            "[81] Test Loss: 0.3477, Accuracy: 86.02%\n",
            "[82] Test Loss: 0.3486, Accuracy: 86.60%\n",
            "[83] Test Loss: 0.3424, Accuracy: 86.89%\n",
            "[84] Test Loss: 0.3297, Accuracy: 86.60%\n",
            "[85] Test Loss: 0.3416, Accuracy: 87.01%\n",
            "[86] Test Loss: 0.3328, Accuracy: 86.83%\n",
            "[87] Test Loss: 0.3302, Accuracy: 87.12%\n",
            "[88] Test Loss: 0.3241, Accuracy: 87.18%\n",
            "[89] Test Loss: 0.3187, Accuracy: 87.47%\n",
            "[90] Test Loss: 0.3256, Accuracy: 87.24%\n",
            "[91] Test Loss: 0.3217, Accuracy: 87.53%\n",
            "[92] Test Loss: 0.3146, Accuracy: 87.47%\n",
            "[93] Test Loss: 0.3204, Accuracy: 87.88%\n",
            "[94] Test Loss: 0.3173, Accuracy: 87.88%\n",
            "[95] Test Loss: 0.3231, Accuracy: 87.76%\n",
            "[96] Test Loss: 0.3223, Accuracy: 88.34%\n",
            "[97] Test Loss: 0.3105, Accuracy: 88.23%\n",
            "[98] Test Loss: 0.3111, Accuracy: 87.94%\n",
            "[99] Test Loss: 0.3179, Accuracy: 88.52%\n"
          ]
        }
      ],
      "source": [
        "for epoch in range(1, epochs):\n",
        "  train(model, train_loader, optimizer)\n",
        "  test_loss, test_accuracy = evaluate(model, test_loader)\n",
        "\n",
        "  print('[{}] Test Loss: {:.4f}, Accuracy: {:.2f}%'. format(epoch, test_loss, test_accuracy))"
      ]
    },
    {
      "cell_type": "code",
      "source": [
        "torch.save(model.state_dict(), os.path.join(data_path, \"wk10_my_CNN.pth\"))"
      ],
      "metadata": {
        "id": "BJpu5LxvJbCE"
      },
      "execution_count": null,
      "outputs": []
    },
    {
      "cell_type": "code",
      "execution_count": null,
      "metadata": {
        "id": "BvrhUaCFAcXF",
        "colab": {
          "base_uri": "https://localhost:8080/",
          "height": 53
        },
        "outputId": "323ecb56-7408-4e1f-96fb-29e1184ce2e9"
      },
      "outputs": [
        {
          "output_type": "execute_result",
          "data": {
            "text/plain": [
              "'test_iter = iter(test_loader)\\ndata, target = next(test_iter)\\ndata, target = data.to(device), target.to(device)\\n'"
            ],
            "application/vnd.google.colaboratory.intrinsic+json": {
              "type": "string"
            }
          },
          "metadata": {},
          "execution_count": 28
        }
      ],
      "source": [
        "\"\"\"test_iter = iter(test_loader)\n",
        "data, target = next(test_iter)\n",
        "data, target = data.to(device), target.to(device)\n",
        "\"\"\"\n"
      ]
    },
    {
      "cell_type": "code",
      "execution_count": null,
      "metadata": {
        "id": "ugPMxSIs3W4R",
        "colab": {
          "base_uri": "https://localhost:8080/",
          "height": 108
        },
        "outputId": "40b5f639-981f-4c0f-bb1f-ac905092c995"
      },
      "outputs": [
        {
          "output_type": "execute_result",
          "data": {
            "text/plain": [
              "\"\\nfor epoch in range(epochs):\\n  model.train()\\n  optimizer.zero_grad() #기존의 경사값을 잊고 새로 시작하기 위해 경사값을 0으로\\n  train_output = model(x_train)\\n  train_loss = criterion(train_output, y_train)\\n  if epoch % 100 == 0:\\n    print('Train loss at {} is {}'.format(epoch, train_loss.item()))\\n  train_loss.backward() #미분\\n  optimizer.step() #loss*learning rate 만큼 이동 (역전파)\\n\""
            ],
            "application/vnd.google.colaboratory.intrinsic+json": {
              "type": "string"
            }
          },
          "metadata": {},
          "execution_count": 29
        }
      ],
      "source": [
        "\"\"\"\n",
        "model.train()\n",
        "optimizer.zero_grad() \n",
        "train_output = model(x_train)\n",
        "train_loss = F.cross_entropy(train_output, y_train)\n",
        "\"\"\"\n",
        "\"\"\"\n",
        "for epoch in range(epochs):\n",
        "  model.train()\n",
        "  optimizer.zero_grad() #기존의 경사값을 잊고 새로 시작하기 위해 경사값을 0으로\n",
        "  train_output = model(x_train)\n",
        "  train_loss = criterion(train_output, y_train)\n",
        "  if epoch % 100 == 0:\n",
        "    print('Train loss at {} is {}'.format(epoch, train_loss.item()))\n",
        "  train_loss.backward() #미분\n",
        "  optimizer.step() #loss*learning rate 만큼 이동 (역전파)\n",
        "\"\"\""
      ]
    },
    {
      "cell_type": "markdown",
      "metadata": {
        "id": "EwKyVVSh0b2X"
      },
      "source": []
    }
  ],
  "metadata": {
    "colab": {
      "provenance": [],
      "include_colab_link": true
    },
    "kernelspec": {
      "display_name": "Python 3",
      "name": "python3"
    },
    "language_info": {
      "name": "python"
    },
    "accelerator": "GPU",
    "gpuClass": "standard"
  },
  "nbformat": 4,
  "nbformat_minor": 0
}